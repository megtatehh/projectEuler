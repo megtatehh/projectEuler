{
 "cells": [
  {
   "cell_type": "code",
   "execution_count": 1,
   "metadata": {},
   "outputs": [],
   "source": [
    "import IsPrime\n",
    "from IsPrime import isPrime\n",
    "from math import sqrt\n",
    "from functools import reduce\n"
   ]
  },
  {
   "cell_type": "code",
   "execution_count": 2,
   "metadata": {},
   "outputs": [
    {
     "data": {
      "text/plain": [
       "{1,\n",
       " 71,\n",
       " 839,\n",
       " 1471,\n",
       " 6857,\n",
       " 59569,\n",
       " 104441,\n",
       " 486847,\n",
       " 1234169,\n",
       " 5753023,\n",
       " 10086647,\n",
       " 87625999,\n",
       " 408464633,\n",
       " 716151937,\n",
       " 8462696833,\n",
       " 600851475143}"
      ]
     },
     "execution_count": 2,
     "metadata": {},
     "output_type": "execute_result"
    }
   ],
   "source": [
    "n=600851475143\n",
    "step = 2 if n%2 else 1\n",
    "factors= set(reduce(list.__add__,\n",
    "                    ([i, n//i] for i in range(1, int(sqrt(n))+1, step) if n % i == 0)))\n",
    "factors"
   ]
  },
  {
   "cell_type": "code",
   "execution_count": 3,
   "metadata": {},
   "outputs": [
    {
     "data": {
      "text/plain": [
       "[1, 839, 71, 6857, 1471]"
      ]
     },
     "execution_count": 3,
     "metadata": {},
     "output_type": "execute_result"
    }
   ],
   "source": [
    "prime=[]\n",
    "for n in factors: \n",
    "    P=isPrime(n)\n",
    "    if P==True:\n",
    "        prime.append(n)\n",
    "prime\n"
   ]
  },
  {
   "cell_type": "code",
   "execution_count": 4,
   "metadata": {},
   "outputs": [
    {
     "data": {
      "text/plain": [
       "6857"
      ]
     },
     "execution_count": 4,
     "metadata": {},
     "output_type": "execute_result"
    }
   ],
   "source": [
    "max(prime)"
   ]
  },
  {
   "cell_type": "code",
   "execution_count": null,
   "metadata": {},
   "outputs": [],
   "source": []
  }
 ],
 "metadata": {
  "kernelspec": {
   "display_name": "Python 3",
   "language": "python",
   "name": "python3"
  },
  "language_info": {
   "codemirror_mode": {
    "name": "ipython",
    "version": 3
   },
   "file_extension": ".py",
   "mimetype": "text/x-python",
   "name": "python",
   "nbconvert_exporter": "python",
   "pygments_lexer": "ipython3",
   "version": "3.7.4"
  }
 },
 "nbformat": 4,
 "nbformat_minor": 2
}
