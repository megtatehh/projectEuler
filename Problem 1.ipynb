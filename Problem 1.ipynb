{
 "cells": [
  {
   "cell_type": "code",
   "execution_count": 1,
   "metadata": {},
   "outputs": [],
   "source": [
    "import math\n",
    "from math import sqrt"
   ]
  },
  {
   "cell_type": "code",
   "execution_count": 2,
   "metadata": {},
   "outputs": [],
   "source": [
    "multiples5 = [n for n in range(1, 1000) if n % 5 == 0]\n",
    "multiples3 = [n for n in range(1, 1000) if n % 3 == 0]\n",
    "allmultiples=[n for n in range(1, 1001) if (n % 5 == 0 | n%3==0)]"
   ]
  },
  {
   "cell_type": "code",
   "execution_count": 3,
   "metadata": {},
   "outputs": [
    {
     "data": {
      "text/plain": [
       "233168"
      ]
     },
     "execution_count": 3,
     "metadata": {},
     "output_type": "execute_result"
    }
   ],
   "source": [
    "allmultiples = [str(int) for int in allmultiples]\n",
    "allmultiplesunique = list(dict.fromkeys(allmultiples))\n",
    "for i in range(0, len(allmultiplesunique)): \n",
    "    allmultiplesunique[i] = int(allmultiplesunique[i]) \n",
    "sum(multiples5)+sum(multiples3)-sum(allmultiplesunique)"
   ]
  },
  {
   "cell_type": "code",
   "execution_count": null,
   "metadata": {},
   "outputs": [],
   "source": []
  }
 ],
 "metadata": {
  "kernelspec": {
   "display_name": "Python 3",
   "language": "python",
   "name": "python3"
  },
  "language_info": {
   "codemirror_mode": {
    "name": "ipython",
    "version": 3
   },
   "file_extension": ".py",
   "mimetype": "text/x-python",
   "name": "python",
   "nbconvert_exporter": "python",
   "pygments_lexer": "ipython3",
   "version": "3.7.4"
  }
 },
 "nbformat": 4,
 "nbformat_minor": 2
}
