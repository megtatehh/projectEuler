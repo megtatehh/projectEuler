{
 "cells": [
  {
   "cell_type": "code",
   "execution_count": 1,
   "metadata": {},
   "outputs": [
    {
     "data": {
      "text/plain": [
       "906609"
      ]
     },
     "execution_count": 1,
     "metadata": {},
     "output_type": "execute_result"
    }
   ],
   "source": [
    "l=[]\n",
    "for i in range(100, 1000):\n",
    "    l.append(i)\n",
    "allMultiples=[]\n",
    "for i in range(100,1000):\n",
    "    for x in l:\n",
    "        if len(str(x*i))%2==0: #only take numbers of even length\n",
    "            allMultiples.append(x*i)\n",
    "palindrom=[]\n",
    "for number in allMultiples:\n",
    "    strNumber=str(number)\n",
    "    firstHalf = strNumber[0:len(strNumber)//2] \n",
    "    secondHalf = strNumber[len(strNumber)//2 if len(strNumber)%2 == 0\n",
    "                                 else ((len(strNumber)//2)+1):]\n",
    "    if secondHalf==firstHalf[::-1]:\n",
    "        palindrom.append(number)\n",
    "        \n",
    "max(palindrom)\n",
    "    # inverse first string - match second sring gcreate a list take the max"
   ]
  },
  {
   "cell_type": "code",
   "execution_count": null,
   "metadata": {},
   "outputs": [],
   "source": []
  }
 ],
 "metadata": {
  "kernelspec": {
   "display_name": "Python 3",
   "language": "python",
   "name": "python3"
  },
  "language_info": {
   "codemirror_mode": {
    "name": "ipython",
    "version": 3
   },
   "file_extension": ".py",
   "mimetype": "text/x-python",
   "name": "python",
   "nbconvert_exporter": "python",
   "pygments_lexer": "ipython3",
   "version": "3.7.4"
  }
 },
 "nbformat": 4,
 "nbformat_minor": 2
}
